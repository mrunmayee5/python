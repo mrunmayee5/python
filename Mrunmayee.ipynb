{
 "cells": [
  {
   "cell_type": "code",
   "execution_count": 5,
   "metadata": {},
   "outputs": [
    {
     "name": "stdout",
     "output_type": "stream",
     "text": [
      "Enter number 1 56\n",
      "Enter number 2 44\n",
      "Enter number 3 98\n",
      "98 Is the large number \n"
     ]
    }
   ],
   "source": [
    "# Find the large number from the given three numbers\n",
    "a1= int(input(\"Enter number 1 \"))\n",
    "a2= int(input(\"Enter number 2 \"))\n",
    "a3= int(input(\"Enter number 3 \"))\n",
    "\n",
    "if a1>a2 and a1>a3:\n",
    "    print(a1,\"Is the large number \")\n",
    "elif a2>a1 and a2>a3:\n",
    "          print(a2,\"Is the large number \")\n",
    "else:\n",
    "      print(a3,\"Is the large number \")"
   ]
  },
  {
   "cell_type": "code",
   "execution_count": 9,
   "metadata": {},
   "outputs": [
    {
     "name": "stdout",
     "output_type": "stream",
     "text": [
      "Enter the year2000\n",
      "The year is leap year\n"
     ]
    }
   ],
   "source": [
    "# Check if a year is leap or not\n",
    "n1=int(input(\"Enter the year\"))\n",
    "if n1%4==0 and n1%100==0:\n",
    "       print(\"The year is leap year\")\n",
    "else:\n",
    "       print(\"The year is not leap year\")\n",
    "    "
   ]
  },
  {
   "cell_type": "code",
   "execution_count": 1,
   "metadata": {},
   "outputs": [
    {
     "name": "stdout",
     "output_type": "stream",
     "text": [
      "Gitam\n",
      "Gitam\n",
      "Gitam\n",
      "Gitam\n",
      "Gitam\n"
     ]
    }
   ],
   "source": [
    "x=0\n",
    "while x<5:\n",
    "    print(\"Gitam\")\n",
    "    x=x+1\n",
    "    "
   ]
  },
  {
   "cell_type": "raw",
   "metadata": {},
   "source": []
  },
  {
   "cell_type": "code",
   "execution_count": 4,
   "metadata": {},
   "outputs": [
    {
     "name": "stdout",
     "output_type": "stream",
     "text": [
      "Enter a number5\n",
      "1 \n",
      "2 \n",
      "3 \n",
      "4 \n",
      "5 \n"
     ]
    }
   ],
   "source": [
    "# Print n natural number using while loop\n",
    "x=1\n",
    "n=int(input(\"Enter a number\"))\n",
    "while x <=n:\n",
    "    print(x,end = \" \\n\")\n",
    "    x=x+1\n"
   ]
  },
  {
   "cell_type": "code",
   "execution_count": 2,
   "metadata": {},
   "outputs": [
    {
     "name": "stdout",
     "output_type": "stream",
     "text": [
      "Enter a number4\n",
      "6\n"
     ]
    }
   ],
   "source": [
    "# to print even number from \n",
    "i=1\n",
    "n=int(input(\"Enter a number\"))\n",
    "sum=0\n",
    "while i<=n:\n",
    "     if i % 2==0:\n",
    "        sum = sum + i\n",
    "     i= i+1\n",
    "print(sum)"
   ]
  },
  {
   "cell_type": "code",
   "execution_count": 4,
   "metadata": {},
   "outputs": [
    {
     "name": "stdout",
     "output_type": "stream",
     "text": [
      "Enter a number156\n",
      "6  5  1  "
     ]
    }
   ],
   "source": [
    "# Print the givem Number in reverse\n",
    "n=int(input(\"Enter a number\"))\n",
    "while n!= 0:\n",
    "    r=n % 10\n",
    "    print(r,end = \"  \")\n",
    "    n=n // 10"
   ]
  },
  {
   "cell_type": "code",
   "execution_count": 2,
   "metadata": {},
   "outputs": [
    {
     "data": {
      "text/plain": [
       "9"
      ]
     },
     "execution_count": 2,
     "metadata": {},
     "output_type": "execute_result"
    }
   ],
   "source": [
    "def printLarge(n):\n",
    "    large=0\n",
    "    while n!=0:\n",
    "        r=n%10\n",
    "        if large < r:\n",
    "            large=r\n",
    "        n=n // 10\n",
    "    return large\n",
    "printLarge(19528)"
   ]
  },
  {
   "cell_type": "code",
   "execution_count": null,
   "metadata": {},
   "outputs": [],
   "source": [
    "def addEvenDIgits(n):\n",
    "    sum=0\n",
    "    while n!=0:\n",
    "        r="
   ]
  },
  {
   "cell_type": "code",
   "execution_count": 1,
   "metadata": {},
   "outputs": [
    {
     "data": {
      "text/plain": [
       "321"
      ]
     },
     "execution_count": 1,
     "metadata": {},
     "output_type": "execute_result"
    }
   ],
   "source": [
    "def reversenumber(n):\n",
    "    rev=0\n",
    "    while n!=0:\n",
    "        r=n%10\n",
    "        rev=rev*10+r\n",
    "        n =n//10\n",
    "    return rev\n",
    "reversenumber(123)"
   ]
  },
  {
   "cell_type": "code",
   "execution_count": 8,
   "metadata": {},
   "outputs": [
    {
     "name": "stdout",
     "output_type": "stream",
     "text": [
      "no\n",
      "yes\n"
     ]
    }
   ],
   "source": [
    "# Palindrome of a giveen number\n",
    "def ispalindrome(n):\n",
    "    rev=0\n",
    "    temp=n\n",
    "    while n!=0:\n",
    "     r=n%10\n",
    "     rev=rev*10+r\n",
    "     n = n//10\n",
    "    if temp==rev:\n",
    "        return \"yes\"\n",
    "    else:\n",
    "        return \"no\"\n",
    "print(ispalindrome(123))\n",
    "print(ispalindrome(121))"
   ]
  },
  {
   "cell_type": "code",
   "execution_count": 16,
   "metadata": {},
   "outputs": [
    {
     "name": "stdout",
     "output_type": "stream",
     "text": [
      "12345678910"
     ]
    }
   ],
   "source": [
    "def printNaturalNumber(n):\n",
    "    for x in range(1,n+1):\n",
    "        print(x,end=\" \")\n",
    "    return\n",
    "printNaturalNumber(10)"
   ]
  },
  {
   "cell_type": "code",
   "execution_count": 19,
   "metadata": {},
   "outputs": [
    {
     "name": "stdout",
     "output_type": "stream",
     "text": [
      "10 11 12 13 14 15 16 17 18 19 20 21 22 23 "
     ]
    }
   ],
   "source": [
    "def printNaturalNumber(n,x):\n",
    "    for x in range(n,x+1):\n",
    "        print(x,end=\" \")\n",
    "    return\n",
    "printNaturalNumber(10,23)"
   ]
  },
  {
   "cell_type": "code",
   "execution_count": 21,
   "metadata": {},
   "outputs": [
    {
     "name": "stdout",
     "output_type": "stream",
     "text": [
      "10 14 18 22 26 30 34 38 42 46 50 54 58 "
     ]
    }
   ],
   "source": [
    "def alternateNumber(lb , ub):\n",
    "    for x in range(lb,ub+1,4):\n",
    "        print(x,end=\" \")\n",
    "    return\n",
    "alternateNumber(10,60)"
   ]
  },
  {
   "cell_type": "code",
   "execution_count": 23,
   "metadata": {},
   "outputs": [
    {
     "name": "stdout",
     "output_type": "stream",
     "text": [
      "10 9 8 7 6 5 4 3 2 1 "
     ]
    }
   ],
   "source": [
    "def reverseRange(start,end):\n",
    "    for x in range(end,start-1,-1):\n",
    "        print(x,end=\" \")\n",
    "    return\n",
    "reverseRange(1,10)"
   ]
  },
  {
   "cell_type": "code",
   "execution_count": 2,
   "metadata": {},
   "outputs": [
    {
     "name": "stdout",
     "output_type": "stream",
     "text": [
      "1 2 4 8 16 "
     ]
    }
   ],
   "source": [
    "#find Factors of a given Number\n",
    "def factorsList(n):\n",
    "    for i in range(1,n+1):\n",
    "        if n%i == 0:\n",
    "            print(i,end=\" \")\n",
    "    return\n",
    "factorsList(16)"
   ]
  },
  {
   "cell_type": "code",
   "execution_count": 6,
   "metadata": {},
   "outputs": [
    {
     "data": {
      "text/plain": [
       "False"
      ]
     },
     "execution_count": 6,
     "metadata": {},
     "output_type": "execute_result"
    }
   ],
   "source": [
    "# Given number is prime or not\n",
    "def isPrime(n):\n",
    "    flag = True\n",
    "    for i in range(2,n//2+1):\n",
    "        if n%i==0:\n",
    "            flag= False\n",
    "            return flag\n",
    "    return flag\n",
    "isPrime(52)"
   ]
  },
  {
   "cell_type": "code",
   "execution_count": 21,
   "metadata": {},
   "outputs": [
    {
     "data": {
      "text/plain": [
       "6"
      ]
     },
     "execution_count": 21,
     "metadata": {},
     "output_type": "execute_result"
    }
   ],
   "source": [
    "# Function to find prime number from 1 to n\n",
    "def PrimeCount(n):\n",
    "    cnt=0\n",
    "    for a in range(2,n+1):\n",
    "        k=0\n",
    "        for i in range(2,a//2+1):\n",
    "            if a%i == 0:\n",
    "                k=k+1\n",
    "        if (k<=0):\n",
    "            cnt=cnt+1\n",
    "    return cnt\n",
    "PrimeCount(15)"
   ]
  },
  {
   "cell_type": "code",
   "execution_count": 42,
   "metadata": {},
   "outputs": [
    {
     "name": "stdout",
     "output_type": "stream",
     "text": [
      "Yes\n",
      "no\n"
     ]
    }
   ],
   "source": [
    "def factorial(n):\n",
    "    fact=1\n",
    "    for i in range(2,n+1):\n",
    "        fact*=i\n",
    "    return fact\n",
    "def digitFactSum(n):\n",
    "    sum=0\n",
    "    buffer=n\n",
    "    while n!=0 :\n",
    "        r=n%10\n",
    "        sum+=factorial(r)\n",
    "        n=n//10\n",
    "    if sum==buffer:\n",
    "        return \"Yes\"\n",
    "    else:\n",
    "        return \"no\"\n",
    "    return\n",
    "print(digitFactSum(145))\n",
    "print(digitFactSum(45))"
   ]
  },
  {
   "cell_type": "code",
   "execution_count": 49,
   "metadata": {},
   "outputs": [
    {
     "data": {
      "text/plain": [
       "9"
      ]
     },
     "execution_count": 49,
     "metadata": {},
     "output_type": "execute_result"
    }
   ],
   "source": [
    "def isPalindrome(n):\n",
    "    rev=0\n",
    "    buffer=n\n",
    "    while n!=0:\n",
    "     r=n%10\n",
    "     rev=rev*10+r\n",
    "     n = n//10\n",
    "    if buffer==rev:\n",
    "        return True \n",
    "    else: \n",
    "        return False\n",
    "    return\n",
    "def countPalindrome(lb,ub):\n",
    "    cnt=0\n",
    "    while lb!= ub:\n",
    "        #Implement\n",
    "        if isPalindrome(lb)== True:\n",
    "            cnt=cnt+1\n",
    "        lb=lb+1 \n",
    "    return cnt\n",
    "countPalindrome(1,10)"
   ]
  },
  {
   "cell_type": "code",
   "execution_count": 7,
   "metadata": {},
   "outputs": [
    {
     "name": "stdout",
     "output_type": "stream",
     "text": [
      "\n",
      "\n"
     ]
    }
   ],
   "source": [
    "def factorsList(n):\n",
    "    sum=0\n",
    "    for i in range(1,n//2+1):\n",
    "        if n%i ==0:\n",
    "            sum=sum+i\n",
    "            return sum\n",
    "def isPerfect(n):\n",
    "    if factorsList(n)==n:\n",
    "        return True\n",
    "    return False\n",
    "def generatePerfect(lb,ub):\n",
    "    for x in range (lb,lb+1):\n",
    "        if isPerfect(x):\n",
    "            print(x,end= \" \")\n",
    "    print()\n",
    "    return\n",
    "generatePerfect(1,10)\n",
    "generatePerfect(1,10000)"
   ]
  },
  {
   "cell_type": "code",
   "execution_count": 9,
   "metadata": {},
   "outputs": [
    {
     "name": "stdout",
     "output_type": "stream",
     "text": [
      "t h o n "
     ]
    }
   ],
   "source": [
    "def printupper(x):\n",
    "    for i in range(len(x)):\n",
    "        if ord(x[i])>=90 and ord(x[i])<=122:\n",
    "            print(x[i],end=\" \")\n",
    "    return\n",
    "printupper(\"PYthon\")"
   ]
  },
  {
   "cell_type": "code",
   "execution_count": 15,
   "metadata": {},
   "outputs": [
    {
     "name": "stdout",
     "output_type": "stream",
     "text": [
      "Same Count\n",
      "Programminng\n"
     ]
    }
   ],
   "source": [
    "def findCount(str):\n",
    "    cntUpper=0\n",
    "    cntLower=0\n",
    "    for x in range(len(str)):\n",
    "        if ord(str[x])>=65 and ord(str[x])<=90:\n",
    "            cntUpper=cntUpper+1\n",
    "        elif ord(str[x])>=97 and ord(str[x])<=122:\n",
    "            cntLower=cntLower+1\n",
    "            if cntUpper == cntLower:\n",
    "                return \"Same Count\"\n",
    "            else:\n",
    "                return \"Programminng\"\n",
    "            return\n",
    "print(findCount(\"PyThon\"))\n",
    "print(findCount(\"PYTHon\"))"
   ]
  },
  {
   "cell_type": "code",
   "execution_count": 17,
   "metadata": {},
   "outputs": [
    {
     "name": "stdout",
     "output_type": "stream",
     "text": [
      "1 8 8 9 "
     ]
    }
   ],
   "source": [
    "def extractDigits(str):\n",
    "    for x in range(len(str)):\n",
    "        if ord(str[x])>=48 and ord(str[x])<=57:\n",
    "            print(str[x],end=\" \")\n",
    "    return\n",
    "extractDigits(\"App1ica8ion89\")"
   ]
  },
  {
   "cell_type": "code",
   "execution_count": 24,
   "metadata": {},
   "outputs": [
    {
     "data": {
      "text/plain": [
       "26"
      ]
     },
     "execution_count": 24,
     "metadata": {},
     "output_type": "execute_result"
    }
   ],
   "source": [
    "#function to return the sum of the digits in given string\n",
    "def sumOfDigits(str):\n",
    "    sum=0\n",
    "    for x in range(len(str)):\n",
    "        if ord(str[x])>=48 and ord(str[x])<=57:\n",
    "            sum=sum+(ord(str[x])-48)\n",
    "    return sum\n",
    "sumOfDigits(\"Appli1ca8ion89\")"
   ]
  },
  {
   "cell_type": "code",
   "execution_count": 27,
   "metadata": {},
   "outputs": [
    {
     "data": {
      "text/plain": [
       "16"
      ]
     },
     "execution_count": 27,
     "metadata": {},
     "output_type": "execute_result"
    }
   ],
   "source": [
    "#function to return the sum of the digits in given string\n",
    "def sumOfDigits(str):\n",
    "    sum=0\n",
    "    for x in range(len(str)):\n",
    "        if ord(str[x])>=48 and ord(str[x])<=57:\n",
    "            if (ord(str[x])-48)%2==0:\n",
    "                sum=sum + (ord(str[x])-48)\n",
    "    return sum\n",
    "sumOfDigits(\"Appli1ca8ion89\")"
   ]
  },
  {
   "cell_type": "code",
   "execution_count": 28,
   "metadata": {},
   "outputs": [
    {
     "name": "stdout",
     "output_type": "stream",
     "text": [
      "MADE"
     ]
    }
   ],
   "source": [
    "def wordUpperCase(s):\n",
    "    spacecnt = 0\n",
    "    for x in range(len(s)):\n",
    "        \n",
    "        if ord(s[x]) == 32:\n",
    "            spacecnt += 1\n",
    "        if spacecnt==1:\n",
    "            if ord(s[x])>=65 and ord(s[x])<=90:\n",
    "                print(s[x],end=\"\")\n",
    "            elif ord(s[x])>=97 and ord(s[x])<=122:\n",
    "                print(chr(ord(s[x])-32),end=\"\")\n",
    "        if spacecnt ==2:\n",
    "            break\n",
    "    return\n",
    "wordUpperCase(\"Python Made easy\")"
   ]
  },
  {
   "cell_type": "code",
   "execution_count": null,
   "metadata": {},
   "outputs": [],
   "source": []
  },
  {
   "cell_type": "code",
   "execution_count": 33,
   "metadata": {},
   "outputs": [
    {
     "name": "stdout",
     "output_type": "stream",
     "text": [
      "\n"
     ]
    }
   ],
   "source": []
  },
  {
   "cell_type": "code",
   "execution_count": null,
   "metadata": {},
   "outputs": [],
   "source": []
  }
 ],
 "metadata": {
  "kernelspec": {
   "display_name": "Python 3",
   "language": "python",
   "name": "python3"
  },
  "language_info": {
   "codemirror_mode": {
    "name": "ipython",
    "version": 3
   },
   "file_extension": ".py",
   "mimetype": "text/x-python",
   "name": "python",
   "nbconvert_exporter": "python",
   "pygments_lexer": "ipython3",
   "version": "3.7.3"
  }
 },
 "nbformat": 4,
 "nbformat_minor": 2
}
