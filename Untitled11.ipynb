{
 "cells": [
  {
   "cell_type": "markdown",
   "metadata": {},
   "source": [
    "##  Standard Libraries\n",
    "  -  File I/O\n",
    "  -  Regular expression\n",
    "  -  Date time\n",
    "  -  Math(numerical and mathmatical)"
   ]
  },
  {
   "cell_type": "markdown",
   "metadata": {},
   "source": [
    "### File Handling in Python\n",
    "  -  File: Document containing information resides on the permanent storage\n",
    "  -  Different types of files: - txt, doc, pdf, csv and etc...\n",
    "  -  Input -- Keyboard\n",
    "  -  Output -- File\n",
    "### Modes of the file I/O\n",
    " - 'w' -- This mode is used to file writing\n",
    "       \n",
    "       -- If the file is not present first it creates the file and write some data to it"
   ]
  },
  {
   "cell_type": "code",
   "execution_count": 2,
   "metadata": {},
   "outputs": [
    {
     "name": "stdout",
     "output_type": "stream",
     "text": [
      "File is created and data is written\n"
     ]
    }
   ],
   "source": [
    "# Function to Create a ile and write to the file\n",
    "def c(filename):\n",
    "    f= open(filename,'w')\n",
    "    for i in range(10):\n",
    "        f.write('This is %d Line\\n%i)\n",
    "    print(\"File is created and data is written\")\n",
    "    return\n",
    "createfile('file1.txt')"
   ]
  },
  {
   "cell_type": "code",
   "execution_count": 4,
   "metadata": {},
   "outputs": [
    {
     "name": "stdout",
     "output_type": "stream",
     "text": [
      " Volume in drive C has no label.\n",
      " Volume Serial Number is 1EE4-85DD\n",
      "\n",
      " Directory of C:\\Users\\200\n",
      "\n",
      "11-07-2019  09:34    <DIR>          .\n",
      "11-07-2019  09:34    <DIR>          ..\n",
      "08-05-2019  14:24    <DIR>          .anaconda\n",
      "21-03-2017  11:39               145 .appletviewer\n",
      "25-06-2019  20:39               421 .bash_history\n",
      "02-11-2017  09:28                 0 .cdtclient\n",
      "11-07-2019  09:49    <DIR>          .conda\n",
      "11-07-2019  09:12                43 .condarc\n",
      "21-05-2019  11:50                68 .gitconfig\n",
      "11-07-2019  09:14    <DIR>          .ipynb_checkpoints\n",
      "08-05-2019  14:44    <DIR>          .ipython\n",
      "21-05-2019  12:38    <DIR>          .jupyter\n",
      "15-11-2018  14:23    <DIR>          .oracle_jre_usage\n",
      "13-12-2016  10:41    <DIR>          2210315401\n",
      "13-12-2016  10:37    <DIR>          401\n",
      "08-05-2019  10:32    <DIR>          Anaconda3\n",
      "27-12-2016  10:55    <DIR>          b401\n",
      "25-06-2019  21:12             1,448 binary search.ipynb\n",
      "21-05-2019  15:00             1,571 binarysearch.ipynb\n",
      "08-05-2019  15:23    <DIR>          Contacts\n",
      "09-07-2019  15:06             3,092 day 8.ipynb\n",
      "06-07-2019  21:25    <DIR>          Desktop\n",
      "21-05-2019  15:00    <DIR>          Documents\n",
      "25-06-2019  22:52    <DIR>          Downloads\n",
      "14-02-2017  11:19    <DIR>          exam\n",
      "08-05-2019  15:23    <DIR>          Favorites\n",
      "11-07-2019  09:32               140 file1.txt\n",
      "06-12-2016  09:45               406 First.class\n",
      "06-12-2016  09:45                97 First.java\n",
      "25-06-2019  20:38    <DIR>          git\n",
      "25-06-2019  20:37    <DIR>          gitam-training\n",
      "08-05-2019  15:23    <DIR>          Links\n",
      "08-05-2019  15:23    <DIR>          Music\n",
      "18-09-2018  15:06                 0 nat.sql\n",
      "08-05-2019  15:23    <DIR>          Pictures\n",
      "18-05-2019  20:05    <DIR>          Python Programming\n",
      "14-02-2017  11:45    <DIR>          R\n",
      "08-05-2019  15:23    <DIR>          Saved Games\n",
      "08-05-2019  15:23    <DIR>          Searches\n",
      "18-09-2018  15:16                 0 stud.sql\n",
      "18-09-2018  15:29                 0 topper.sql\n",
      "08-05-2019  14:44                72 Untitled.ipynb\n",
      "22-06-2019  15:35               975 Untitled1.ipynb\n",
      "09-07-2019  10:20             3,033 Untitled10.ipynb\n",
      "11-07-2019  09:34             5,687 Untitled11.ipynb\n",
      "09-05-2019  10:45             1,346 Untitled2.ipynb\n",
      "24-06-2019  16:47             3,402 Untitled3.ipynb\n",
      "25-06-2019  15:38                72 Untitled4.ipynb\n",
      "25-06-2019  15:44                72 Untitled5.ipynb\n",
      "25-06-2019  15:48             1,238 Untitled6.ipynb\n",
      "25-06-2019  22:51             1,982 Untitled7.ipynb\n",
      "26-06-2019  16:44             2,632 Untitled8.ipynb\n",
      "06-07-2019  16:17             4,062 Untitled9.ipynb\n",
      "25-06-2019  22:48             1,762 upper case to lower case.ipynb\n",
      "25-06-2019  22:50             1,762 upper case to lower case-Copy1.ipynb\n",
      "08-05-2019  15:23    <DIR>          Videos\n",
      "              28 File(s)         35,528 bytes\n",
      "              28 Dir(s)  75,909,431,296 bytes free\n"
     ]
    }
   ],
   "source": [
    "ls"
   ]
  },
  {
   "cell_type": "code",
   "execution_count": 1,
   "metadata": {},
   "outputs": [
    {
     "name": "stdout",
     "output_type": "stream",
     "text": [
      "file created and successfully written\n"
     ]
    }
   ],
   "source": [
    "def appenddata(filename):\n",
    "    f=open(filename,'a')\n",
    "    f.write(\"new line 1\\n\")\n",
    "    f.write(\"new line 2\\n\")\n",
    "    print(\"file created and successfully written\")\n",
    "    return\n",
    "appenddata('file2.txt')"
   ]
  },
  {
   "cell_type": "code",
   "execution_count": 5,
   "metadata": {},
   "outputs": [
    {
     "name": "stdout",
     "output_type": "stream",
     "text": [
      "new line 1\n",
      "new line 2\n",
      "\n"
     ]
    }
   ],
   "source": [
    "#function to read a file\n",
    "def readfiledata(filename):\n",
    "    f=open(filename,'r')\n",
    "    if f.mode =='r':\n",
    "        x=f.read()\n",
    "        print(x)\n",
    "    f.close()\n",
    "    return\n",
    "readfiledata('file2.txt')"
   ]
  },
  {
   "cell_type": "code",
   "execution_count": null,
   "metadata": {},
   "outputs": [],
   "source": []
  },
  {
   "cell_type": "code",
   "execution_count": 6,
   "metadata": {},
   "outputs": [
    {
     "name": "stdout",
     "output_type": "stream",
     "text": [
      "Enter the file namedata.txt\n",
      "Enter the mode of the filea\n",
      "The data successfully written\n"
     ]
    }
   ],
   "source": [
    "def fileOperations(filename,mode):\n",
    "        with open(filename,mode) as f:\n",
    "            if f.mode == 'r' :\n",
    "                data = f.read()\n",
    "                print(data)\n",
    "            elif f.mode == 'a':\n",
    "                f.write(' Data to the file')\n",
    "                print('The data successfully written')\n",
    "            f.close()\n",
    "            return\n",
    "filename = input('Enter the file name')\n",
    "mode= input('Enter the mode of the file')\n",
    "fileOperations(filename,mode)"
   ]
  },
  {
   "cell_type": "code",
   "execution_count": 9,
   "metadata": {},
   "outputs": [
    {
     "name": "stdout",
     "output_type": "stream",
     "text": [
      "Enter the filename : file2.txt\n",
      "Enter the word: This\n"
     ]
    }
   ],
   "source": [
    "#Data analysis \n",
    "#word count\n",
    "def wordCount(filename,word):\n",
    "    with open(filename,'r') as f:\n",
    "        if f.mode == 'r':\n",
    "            x= f.read()\n",
    "            li=x.split()\n",
    "    cnt= li.count(word)\n",
    "    f.close()\n",
    "    return\n",
    "filename=input('Enter the filename : ')\n",
    "word= input('Enter the word: ')\n",
    "wordCount(filename,word)"
   ]
  },
  {
   "cell_type": "code",
   "execution_count": 1,
   "metadata": {},
   "outputs": [
    {
     "name": "stdout",
     "output_type": "stream",
     "text": [
      "Enter the filename :file2.txt\n"
     ]
    },
    {
     "data": {
      "text/plain": [
       "3"
      ]
     },
     "execution_count": 1,
     "metadata": {},
     "output_type": "execute_result"
    }
   ],
   "source": [
    "def countOflines(filename):\n",
    "    with open(filename,'r') as f:\n",
    "        if f.mode == 'r':\n",
    "            x=f.read()\n",
    "            li=x.split('\\n')\n",
    "    return len(li)\n",
    "filename= input(\"Enter the filename :\")\n",
    "countOflines(filename)"
   ]
  },
  {
   "cell_type": "code",
   "execution_count": 1,
   "metadata": {},
   "outputs": [
    {
     "name": "stdout",
     "output_type": "stream",
     "text": [
      "Enter the filename:file2.txt\n"
     ]
    },
    {
     "data": {
      "text/plain": [
       "'lower case0,lower case14'"
      ]
     },
     "execution_count": 1,
     "metadata": {},
     "output_type": "execute_result"
    }
   ],
   "source": [
    "#Function to print the upper and lower characters\n",
    "def caseCount(filename):\n",
    "    cntUpper=0\n",
    "    cntLower=0\n",
    "    with open(filename,'r') as f:\n",
    "        if f.mode == 'r':\n",
    "            x=f.read()\n",
    "            li= list(x)\n",
    "    for i in li:\n",
    "        if i.isupper():\n",
    "            cntUpper += 1 \n",
    "        elif i.islower():\n",
    "            cntLower += 1\n",
    "    output= 'lower case{0},lower case{1}'.format(cntUpper,cntLower)\n",
    "    return output\n",
    "filename= input('Enter the filename:')\n",
    "caseCount(filename)"
   ]
  },
  {
   "cell_type": "markdown",
   "metadata": {},
   "source": [
    "###  math,round,os\n",
    "  - ospackage - it contains the certain methods which work with os\n",
    "  "
   ]
  },
  {
   "cell_type": "code",
   "execution_count": 6,
   "metadata": {},
   "outputs": [
    {
     "name": "stdout",
     "output_type": "stream",
     "text": [
      "[WinError 3] The system cannot find the path specified: 'Desktop/PythonProg/Git'\n",
      "C:\\Users\\200\n"
     ]
    }
   ],
   "source": [
    "cd Desktop/PythonProg/Git"
   ]
  },
  {
   "cell_type": "code",
   "execution_count": 3,
   "metadata": {},
   "outputs": [
    {
     "name": "stdout",
     "output_type": "stream",
     "text": [
      " Volume in drive C has no label.\n",
      " Volume Serial Number is 1EE4-85DD\n",
      "\n",
      " Directory of C:\\Users\\200\n",
      "\n",
      "11-07-2019  12:30    <DIR>          .\n",
      "11-07-2019  12:30    <DIR>          ..\n",
      "08-05-2019  14:24    <DIR>          .anaconda\n",
      "21-03-2017  11:39               145 .appletviewer\n",
      "25-06-2019  20:39               421 .bash_history\n",
      "02-11-2017  09:28                 0 .cdtclient\n",
      "11-07-2019  12:30    <DIR>          .conda\n",
      "11-07-2019  09:12                43 .condarc\n",
      "21-05-2019  11:50                68 .gitconfig\n",
      "11-07-2019  09:14    <DIR>          .ipynb_checkpoints\n",
      "08-05-2019  14:44    <DIR>          .ipython\n",
      "21-05-2019  12:38    <DIR>          .jupyter\n",
      "15-11-2018  14:23    <DIR>          .oracle_jre_usage\n",
      "13-12-2016  10:41    <DIR>          2210315401\n",
      "13-12-2016  10:37    <DIR>          401\n",
      "08-05-2019  10:32    <DIR>          Anaconda3\n",
      "27-12-2016  10:55    <DIR>          b401\n",
      "25-06-2019  21:12             1,448 binary search.ipynb\n",
      "21-05-2019  15:00             1,571 binarysearch.ipynb\n",
      "08-05-2019  15:23    <DIR>          Contacts\n",
      "11-07-2019  10:51                34 data.txt\n",
      "09-07-2019  15:06             3,092 day 8.ipynb\n",
      "06-07-2019  21:25    <DIR>          Desktop\n",
      "21-05-2019  15:00    <DIR>          Documents\n",
      "25-06-2019  22:52    <DIR>          Downloads\n",
      "14-02-2017  11:19    <DIR>          exam\n",
      "08-05-2019  15:23    <DIR>          Favorites\n",
      "11-07-2019  09:32               140 file1.txt\n",
      "11-07-2019  10:49                24 file2.txt\n",
      "06-12-2016  09:45               406 First.class\n",
      "06-12-2016  09:45                97 First.java\n",
      "25-06-2019  20:38    <DIR>          git\n",
      "25-06-2019  20:37    <DIR>          gitam-training\n",
      "08-05-2019  15:23    <DIR>          Links\n",
      "08-05-2019  15:23    <DIR>          Music\n",
      "18-09-2018  15:06                 0 nat.sql\n",
      "08-05-2019  15:23    <DIR>          Pictures\n",
      "18-05-2019  20:05    <DIR>          Python Programming\n",
      "14-02-2017  11:45    <DIR>          R\n",
      "08-05-2019  15:23    <DIR>          Saved Games\n",
      "08-05-2019  15:23    <DIR>          Searches\n",
      "18-09-2018  15:16                 0 stud.sql\n",
      "18-09-2018  15:29                 0 topper.sql\n",
      "08-05-2019  14:44                72 Untitled.ipynb\n",
      "22-06-2019  15:35               975 Untitled1.ipynb\n",
      "09-07-2019  10:20             3,033 Untitled10.ipynb\n",
      "11-07-2019  12:30            14,402 Untitled11.ipynb\n",
      "09-05-2019  10:45             1,346 Untitled2.ipynb\n",
      "24-06-2019  16:47             3,402 Untitled3.ipynb\n",
      "25-06-2019  15:38                72 Untitled4.ipynb\n",
      "25-06-2019  15:44                72 Untitled5.ipynb\n",
      "25-06-2019  15:48             1,238 Untitled6.ipynb\n",
      "25-06-2019  22:51             1,982 Untitled7.ipynb\n",
      "26-06-2019  16:44             2,632 Untitled8.ipynb\n",
      "06-07-2019  16:17             4,062 Untitled9.ipynb\n",
      "25-06-2019  22:48             1,762 upper case to lower case.ipynb\n",
      "25-06-2019  22:50             1,762 upper case to lower case-Copy1.ipynb\n",
      "08-05-2019  15:23    <DIR>          Videos\n",
      "              30 File(s)         44,301 bytes\n",
      "              28 Dir(s)  75,654,717,440 bytes free\n"
     ]
    }
   ],
   "source": [
    "ls"
   ]
  },
  {
   "cell_type": "code",
   "execution_count": 7,
   "metadata": {},
   "outputs": [
    {
     "data": {
      "text/plain": [
       "['gitam-training']"
      ]
     },
     "execution_count": 7,
     "metadata": {},
     "output_type": "execute_result"
    }
   ],
   "source": [
    "import os\n",
    "os.listdir('Git/')"
   ]
  },
  {
   "cell_type": "code",
   "execution_count": 8,
   "metadata": {},
   "outputs": [
    {
     "name": "stdout",
     "output_type": "stream",
     "text": [
      "<DirEntry 'gitam-training'>\n"
     ]
    }
   ],
   "source": [
    "li= os.scandir('Git/')\n",
    "for i in li:\n",
    "    print(i)"
   ]
  },
  {
   "cell_type": "code",
   "execution_count": 13,
   "metadata": {},
   "outputs": [
    {
     "name": "stdout",
     "output_type": "stream",
     "text": [
      "gitam-training\n"
     ]
    }
   ],
   "source": [
    "from pathlib import Path\n",
    "li=Path('Git/')\n",
    "for i in li.iterdir():\n",
    "    print(i.name)"
   ]
  },
  {
   "cell_type": "code",
   "execution_count": 15,
   "metadata": {},
   "outputs": [
    {
     "ename": "NameError",
     "evalue": "name 'dirPath' is not defined",
     "output_type": "error",
     "traceback": [
      "\u001b[1;31m---------------------------------------------------------------------------\u001b[0m",
      "\u001b[1;31mNameError\u001b[0m                                 Traceback (most recent call last)",
      "\u001b[1;32m<ipython-input-15-b87a353a052c>\u001b[0m in \u001b[0;36m<module>\u001b[1;34m\u001b[0m\n\u001b[0;32m      1\u001b[0m \u001b[1;32mimport\u001b[0m \u001b[0mos\u001b[0m\u001b[1;33m\u001b[0m\u001b[1;33m\u001b[0m\u001b[0m\n\u001b[0;32m      2\u001b[0m \u001b[0mdirpath\u001b[0m\u001b[1;33m=\u001b[0m \u001b[1;34m'Git/'\u001b[0m\u001b[1;33m\u001b[0m\u001b[1;33m\u001b[0m\u001b[0m\n\u001b[1;32m----> 3\u001b[1;33m \u001b[1;32mwith\u001b[0m \u001b[0mos\u001b[0m\u001b[1;33m.\u001b[0m\u001b[0mscandir\u001b[0m\u001b[1;33m(\u001b[0m\u001b[0mdirPath\u001b[0m\u001b[1;33m)\u001b[0m \u001b[1;32mas\u001b[0m \u001b[0mf\u001b[0m\u001b[1;33m:\u001b[0m\u001b[1;33m\u001b[0m\u001b[1;33m\u001b[0m\u001b[0m\n\u001b[0m\u001b[0;32m      4\u001b[0m     \u001b[1;32mfor\u001b[0m \u001b[0mi\u001b[0m \u001b[1;32min\u001b[0m \u001b[0mf\u001b[0m\u001b[1;33m:\u001b[0m\u001b[1;33m\u001b[0m\u001b[1;33m\u001b[0m\u001b[0m\n\u001b[0;32m      5\u001b[0m         \u001b[1;32mif\u001b[0m \u001b[0mi\u001b[0m\u001b[1;33m.\u001b[0m\u001b[0mis_file\u001b[0m\u001b[1;33m(\u001b[0m\u001b[1;33m)\u001b[0m\u001b[1;33m:\u001b[0m\u001b[1;33m\u001b[0m\u001b[1;33m\u001b[0m\u001b[0m\n",
      "\u001b[1;31mNameError\u001b[0m: name 'dirPath' is not defined"
     ]
    }
   ],
   "source": [
    "import os\n",
    "dirpath= 'Git/'\n",
    "with os.scandir(dirPath) as f:\n",
    "    for i in f:\n",
    "        if i.is_file():\n",
    "            print(i.name)"
   ]
  },
  {
   "cell_type": "code",
   "execution_count": 16,
   "metadata": {},
   "outputs": [
    {
     "name": "stdout",
     "output_type": "stream",
     "text": [
      "gitam-training\n"
     ]
    }
   ],
   "source": [
    "dirPath='Git/'\n",
    "for i in os.listdir(dirPath):\n",
    "    if os.path.isdir(os.path.join(dirPath,i)):\n",
    "        print(i)"
   ]
  },
  {
   "cell_type": "code",
   "execution_count": 17,
   "metadata": {},
   "outputs": [],
   "source": [
    "import os\n",
    "os.mkdir('Single directory')"
   ]
  },
  {
   "cell_type": "code",
   "execution_count": 19,
   "metadata": {},
   "outputs": [
    {
     "ename": "ModuleNotFoundError",
     "evalue": "No module named 'pathLib'",
     "output_type": "error",
     "traceback": [
      "\u001b[1;31m---------------------------------------------------------------------------\u001b[0m",
      "\u001b[1;31mModuleNotFoundError\u001b[0m                       Traceback (most recent call last)",
      "\u001b[1;32m<ipython-input-19-cfe1429a23ef>\u001b[0m in \u001b[0;36m<module>\u001b[1;34m\u001b[0m\n\u001b[1;32m----> 1\u001b[1;33m \u001b[1;32mimport\u001b[0m \u001b[0mpathLib\u001b[0m\u001b[1;33m\u001b[0m\u001b[1;33m\u001b[0m\u001b[0m\n\u001b[0m\u001b[0;32m      2\u001b[0m \u001b[0mp\u001b[0m\u001b[1;33m=\u001b[0m\u001b[0mpathLib\u001b[0m\u001b[1;33m.\u001b[0m\u001b[0mPath\u001b[0m\u001b[1;33m(\u001b[0m\u001b[1;34m'TestFolder'\u001b[0m\u001b[1;33m)\u001b[0m\u001b[1;33m\u001b[0m\u001b[1;33m\u001b[0m\u001b[0m\n\u001b[0;32m      3\u001b[0m \u001b[0mp\u001b[0m\u001b[1;33m.\u001b[0m\u001b[0mmkdir\u001b[0m\u001b[1;33m\u001b[0m\u001b[1;33m\u001b[0m\u001b[0m\n",
      "\u001b[1;31mModuleNotFoundError\u001b[0m: No module named 'pathLib'"
     ]
    }
   ],
   "source": [
    "import pathLib\n",
    "p=pathLib.Path('TestFolder')\n",
    "p.mkdir"
   ]
  },
  {
   "cell_type": "code",
   "execution_count": 22,
   "metadata": {},
   "outputs": [
    {
     "ename": "FileExistsError",
     "evalue": "[WinError 183] Cannot create a file when that file already exists: '2019/July/11'",
     "output_type": "error",
     "traceback": [
      "\u001b[1;31m---------------------------------------------------------------------------\u001b[0m",
      "\u001b[1;31mFileExistsError\u001b[0m                           Traceback (most recent call last)",
      "\u001b[1;32m<ipython-input-22-6faac68df6ab>\u001b[0m in \u001b[0;36m<module>\u001b[1;34m\u001b[0m\n\u001b[0;32m      1\u001b[0m \u001b[1;32mimport\u001b[0m \u001b[0mos\u001b[0m\u001b[1;33m\u001b[0m\u001b[1;33m\u001b[0m\u001b[0m\n\u001b[1;32m----> 2\u001b[1;33m \u001b[0mos\u001b[0m\u001b[1;33m.\u001b[0m\u001b[0mmakedirs\u001b[0m\u001b[1;33m(\u001b[0m\u001b[1;34m\"2019/July/11\"\u001b[0m\u001b[1;33m)\u001b[0m\u001b[1;33m\u001b[0m\u001b[1;33m\u001b[0m\u001b[0m\n\u001b[0m",
      "\u001b[1;32m~\\Anaconda3\\lib\\os.py\u001b[0m in \u001b[0;36mmakedirs\u001b[1;34m(name, mode, exist_ok)\u001b[0m\n\u001b[0;32m    219\u001b[0m             \u001b[1;32mreturn\u001b[0m\u001b[1;33m\u001b[0m\u001b[1;33m\u001b[0m\u001b[0m\n\u001b[0;32m    220\u001b[0m     \u001b[1;32mtry\u001b[0m\u001b[1;33m:\u001b[0m\u001b[1;33m\u001b[0m\u001b[1;33m\u001b[0m\u001b[0m\n\u001b[1;32m--> 221\u001b[1;33m         \u001b[0mmkdir\u001b[0m\u001b[1;33m(\u001b[0m\u001b[0mname\u001b[0m\u001b[1;33m,\u001b[0m \u001b[0mmode\u001b[0m\u001b[1;33m)\u001b[0m\u001b[1;33m\u001b[0m\u001b[1;33m\u001b[0m\u001b[0m\n\u001b[0m\u001b[0;32m    222\u001b[0m     \u001b[1;32mexcept\u001b[0m \u001b[0mOSError\u001b[0m\u001b[1;33m:\u001b[0m\u001b[1;33m\u001b[0m\u001b[1;33m\u001b[0m\u001b[0m\n\u001b[0;32m    223\u001b[0m         \u001b[1;31m# Cannot rely on checking for EEXIST, since the operating system\u001b[0m\u001b[1;33m\u001b[0m\u001b[1;33m\u001b[0m\u001b[1;33m\u001b[0m\u001b[0m\n",
      "\u001b[1;31mFileExistsError\u001b[0m: [WinError 183] Cannot create a file when that file already exists: '2019/July/11'"
     ]
    }
   ],
   "source": [
    "import os \n",
    "os.makedirs(\"2019/July/11\")"
   ]
  },
  {
   "cell_type": "code",
   "execution_count": 23,
   "metadata": {},
   "outputs": [
    {
     "name": "stdout",
     "output_type": "stream",
     "text": [
      " Volume in drive C has no label.\n",
      " Volume Serial Number is 1EE4-85DD\n",
      "\n",
      " Directory of C:\\Users\\200\n",
      "\n",
      "11-07-2019  15:02    <DIR>          .\n",
      "11-07-2019  15:02    <DIR>          ..\n",
      "08-05-2019  14:24    <DIR>          .anaconda\n",
      "21-03-2017  11:39               145 .appletviewer\n",
      "25-06-2019  20:39               421 .bash_history\n",
      "02-11-2017  09:28                 0 .cdtclient\n",
      "11-07-2019  15:03    <DIR>          .conda\n",
      "11-07-2019  09:12                43 .condarc\n",
      "21-05-2019  11:50                68 .gitconfig\n",
      "11-07-2019  09:14    <DIR>          .ipynb_checkpoints\n",
      "08-05-2019  14:44    <DIR>          .ipython\n",
      "21-05-2019  12:38    <DIR>          .jupyter\n",
      "15-11-2018  14:23    <DIR>          .oracle_jre_usage\n",
      "11-07-2019  15:02    <DIR>          2019\n",
      "13-12-2016  10:41    <DIR>          2210315401\n",
      "13-12-2016  10:37    <DIR>          401\n",
      "08-05-2019  10:32    <DIR>          Anaconda3\n",
      "27-12-2016  10:55    <DIR>          b401\n",
      "25-06-2019  21:12             1,448 binary search.ipynb\n",
      "21-05-2019  15:00             1,571 binarysearch.ipynb\n",
      "08-05-2019  15:23    <DIR>          Contacts\n",
      "11-07-2019  10:51                34 data.txt\n",
      "09-07-2019  15:06             3,092 day 8.ipynb\n",
      "06-07-2019  21:25    <DIR>          Desktop\n",
      "21-05-2019  15:00    <DIR>          Documents\n",
      "25-06-2019  22:52    <DIR>          Downloads\n",
      "14-02-2017  11:19    <DIR>          exam\n",
      "08-05-2019  15:23    <DIR>          Favorites\n",
      "11-07-2019  09:32               140 file1.txt\n",
      "11-07-2019  10:49                24 file2.txt\n",
      "06-12-2016  09:45               406 First.class\n",
      "06-12-2016  09:45                97 First.java\n",
      "25-06-2019  20:38    <DIR>          git\n",
      "25-06-2019  20:37    <DIR>          gitam-training\n",
      "08-05-2019  15:23    <DIR>          Links\n",
      "08-05-2019  15:23    <DIR>          Music\n",
      "18-09-2018  15:06                 0 nat.sql\n",
      "08-05-2019  15:23    <DIR>          Pictures\n",
      "18-05-2019  20:05    <DIR>          Python Programming\n",
      "14-02-2017  11:45    <DIR>          R\n",
      "08-05-2019  15:23    <DIR>          Saved Games\n",
      "08-05-2019  15:23    <DIR>          Searches\n",
      "11-07-2019  14:57    <DIR>          Single directory\n",
      "18-09-2018  15:16                 0 stud.sql\n",
      "18-09-2018  15:29                 0 topper.sql\n",
      "08-05-2019  14:44                72 Untitled.ipynb\n",
      "22-06-2019  15:35               975 Untitled1.ipynb\n",
      "09-07-2019  10:20             3,033 Untitled10.ipynb\n",
      "11-07-2019  15:02            19,547 Untitled11.ipynb\n",
      "09-05-2019  10:45             1,346 Untitled2.ipynb\n",
      "24-06-2019  16:47             3,402 Untitled3.ipynb\n",
      "25-06-2019  15:38                72 Untitled4.ipynb\n",
      "25-06-2019  15:44                72 Untitled5.ipynb\n",
      "25-06-2019  15:48             1,238 Untitled6.ipynb\n",
      "25-06-2019  22:51             1,982 Untitled7.ipynb\n",
      "26-06-2019  16:44             2,632 Untitled8.ipynb\n",
      "06-07-2019  16:17             4,062 Untitled9.ipynb\n",
      "25-06-2019  22:48             1,762 upper case to lower case.ipynb\n",
      "25-06-2019  22:50             1,762 upper case to lower case-Copy1.ipynb\n",
      "08-05-2019  15:23    <DIR>          Videos\n",
      "              30 File(s)         49,446 bytes\n",
      "              30 Dir(s)  75,395,915,776 bytes free\n"
     ]
    }
   ],
   "source": [
    "ls"
   ]
  },
  {
   "cell_type": "code",
   "execution_count": 24,
   "metadata": {},
   "outputs": [
    {
     "name": "stdout",
     "output_type": "stream",
     "text": [
      "C:\\Users\\200\n"
     ]
    }
   ],
   "source": [
    "cd ..."
   ]
  },
  {
   "cell_type": "code",
   "execution_count": 27,
   "metadata": {},
   "outputs": [],
   "source": [
    "def absval(num):\n",
    "    \"\"\" this function\"\"\"\n",
    "    if num>=0:\n",
    "        return num\n",
    "    else:\n",
    "        return -num\n",
    "   \n",
    "print(absval(2))\n",
    "    print(absval(-4))"
   ]
  },
  {
   "cell_type": "code",
   "execution_count": null,
   "metadata": {},
   "outputs": [],
   "source": []
  }
 ],
 "metadata": {
  "kernelspec": {
   "display_name": "Python 3",
   "language": "python",
   "name": "python3"
  },
  "language_info": {
   "codemirror_mode": {
    "name": "ipython",
    "version": 3
   },
   "file_extension": ".py",
   "mimetype": "text/x-python",
   "name": "python",
   "nbconvert_exporter": "python",
   "pygments_lexer": "ipython3",
   "version": "3.7.3"
  }
 },
 "nbformat": 4,
 "nbformat_minor": 2
}
